{
 "cells": [
  {
   "cell_type": "code",
   "execution_count": 1,
   "id": "3736646e",
   "metadata": {},
   "outputs": [],
   "source": [
    "import mylibrary\n",
    "import math\n",
    "from matplotlib import pyplot as plt\n",
    "import numpy as np"
   ]
  },
  {
   "cell_type": "markdown",
   "id": "743318d4",
   "metadata": {},
   "source": [
    "Question 1"
   ]
  },
  {
   "cell_type": "code",
   "execution_count": 2,
   "id": "c1dc2565",
   "metadata": {},
   "outputs": [
    {
     "name": "stdout",
     "output_type": "stream",
     "text": [
      "Bracket containing the root of the function is:(2, 5)\n"
     ]
    }
   ],
   "source": [
    "#function given: (x-5)e^x + 5\n",
    "f1 = lambda x: (x-5)*math.exp(x) + 5\n",
    "\n",
    "#setting constants\n",
    "h = 6.626*10**(-34)\n",
    "k = 1.381*10**(-23)\n",
    "c = 3*10**(8) \n",
    "\n",
    "prec = 10*(-4) #choosing a precision value\n",
    "\n",
    "#picking a guess for the root\n",
    "lower_lim = 2\n",
    "upper_lim = 5\n",
    "\n",
    "#checking bracket for root\n",
    "brac = mylibrary.bracket(f1,lower_lim,upper_lim)\n",
    "print(\"Bracket containing the root of the function is:\" + str(brac))"
   ]
  },
  {
   "cell_type": "code",
   "execution_count": 3,
   "id": "a579b8da",
   "metadata": {},
   "outputs": [
    {
     "name": "stdout",
     "output_type": "stream",
     "text": [
      "The root for the function within the specified interval is = 4.965113134432163\n"
     ]
    }
   ],
   "source": [
    "#calling Newton-Raphson function to find root\n",
    "r1, i1, err1 = mylibrary.newtonraphson(f1,5,prec) #putting the upper bound guess as 5\n",
    "print(\"The root for the function within the specified interval is = \" + str(r1))"
   ]
  },
  {
   "cell_type": "code",
   "execution_count": 4,
   "id": "652cc814",
   "metadata": {},
   "outputs": [
    {
     "name": "stdout",
     "output_type": "stream",
     "text": [
      "From the given expression in the question, we see b = (h*c)/(x*k)\n",
      "where x is the value of the root found\n",
      "\n",
      "Therefore, Wein's constant, b = 0.0028990109714324853\n"
     ]
    }
   ],
   "source": [
    "print(\"From the given expression in the question, we see b = (h*c)/(x*k)\")\n",
    "print(\"where x is the value of the root found\")\n",
    "print()\n",
    "print(\"Therefore, Wein's constant, b = \" + str((h*c)/(r1*k)))"
   ]
  },
  {
   "cell_type": "markdown",
   "id": "56b533c9",
   "metadata": {},
   "source": [
    "Question 2"
   ]
  },
  {
   "cell_type": "code",
   "execution_count": 5,
   "id": "97166206",
   "metadata": {},
   "outputs": [],
   "source": [
    "#defining constants for the question\n",
    "L = 1\n",
    "g = 9.8\n",
    "k = 4*(L/g)**0.5\n",
    "a = math.sin(math.pi/8)\n",
    "\n",
    "#defining the integrand\n",
    "def integrand(phi):\n",
    "    f = 1/(1-(a*math.sin(phi)))**0.5\n",
    "    return f"
   ]
  },
  {
   "cell_type": "code",
   "execution_count": 6,
   "id": "e9ab6804",
   "metadata": {},
   "outputs": [
    {
     "name": "stdout",
     "output_type": "stream",
     "text": [
      "The value of T for N = 10, using Simpson method is 2.007089923154493\n"
     ]
    }
   ],
   "source": [
    "a = 0         #lower bound\n",
    "b = math.pi/2 #upper bound\n",
    "N = 10        #as specified in the question\n",
    "integral = k*mylibrary.Simpson(a,b,integrand,N)\n",
    "print(\"The value of T for N = 10, using Simpson method is\", integral)"
   ]
  },
  {
   "cell_type": "markdown",
   "id": "517e23de",
   "metadata": {},
   "source": [
    "Question 3"
   ]
  },
  {
   "cell_type": "code",
   "execution_count": 7,
   "id": "59dc088f",
   "metadata": {},
   "outputs": [],
   "source": [
    "#setting up the constants for the problem\n",
    "y0 = 2\n",
    "y5 = 45\n",
    "\n",
    "def y2dot(t, y, u):\n",
    "    return -9.8\n",
    "\n",
    "def ydot(t, y, u):\n",
    "    return u"
   ]
  },
  {
   "cell_type": "code",
   "execution_count": 8,
   "id": "0e4cf286",
   "metadata": {},
   "outputs": [
    {
     "data": {
      "image/png": "[encoded data removed]",
      "text/plain": [
       "<Figure size 432x288 with 1 Axes>"
      ]
     },
     "metadata": {
      "needs_background": "light"
     },
     "output_type": "display_data"
    },
    {
     "name": "stdout",
     "output_type": "stream",
     "text": [
      "At t=0, the velocity of the rocket was 33.09999999999992 m/s\n",
      "This is very close to the analytical solution, which is 33.1 m/s\n"
     ]
    }
   ],
   "source": [
    "stepsize = 0.01\n",
    "t_initial = 0\n",
    "t_final = 5\n",
    "tol = 0.000001\n",
    "\n",
    "T, Y, Z = mylibrary.Shooting(y2dot, ydot, t_initial, y0, t_final, y5, 10, 100, stepsize, tol)\n",
    "\n",
    "plt.plot(T,Y)\n",
    "plt.xlabel(\" $v$\")\n",
    "plt.ylabel(\"Height $(h)$\")\n",
    "plt.title(\"Height vs time plot for the rocket\")\n",
    "plt.show()\n",
    "\n",
    "print(\"At t=0, the velocity of the rocket was\", Z[0], \"m/s\")\n",
    "print(\"This is very close to the analytical solution, which is 33.1 m/s\")"
   ]
  },
  {
   "cell_type": "markdown",
   "id": "c2ac81ab",
   "metadata": {},
   "source": [
    "Question 4"
   ]
  },
  {
   "cell_type": "code",
   "execution_count": 17,
   "id": "ad9b006b",
   "metadata": {},
   "outputs": [
    {
     "name": "stdout",
     "output_type": "stream",
     "text": [
      "The matrix for fitting (X) is given as,\n",
      "[10.0, 55.0, 385.0]\n",
      "[55.0, 385.0, 3025.0]\n",
      "[385.0, 3025.0, 25333.0]\n",
      "Hence, the inverse matrix for fitting exists and is given as,\n",
      "[1.3833333333333329, -0.5249999999999995, 0.04166666666666663]\n",
      "[-0.5249999999999986, 0.2412878787878796, -0.02083333333333326]\n",
      "[0.04166666666666785, -0.020833333333333925, 0.0018939393939394478]\n",
      "The coefficient matrx for fitting is hence obtained by X^(-1)*Y as,\n",
      "[732.0599999999977]\n",
      "[74.40000000000146]\n",
      "[10.440000000000282]\n"
     ]
    }
   ],
   "source": [
    "matrix = open(\"esem_qfit.dat\", \"r+\")\n",
    "t = []\n",
    "p = []\n",
    "for row in matrix:              #entering population data\n",
    "    elem = row.split()\n",
    "    t.append(float(elem[0]))\n",
    "    p.append(10*float(elem[1])) #since population is given in 10s\n",
    "\n",
    "#defining summations for matrices X and Y\n",
    "sum_hr0 = 0\n",
    "sum_hr1 = 0\n",
    "sum_hr2 = 0\n",
    "sum_r0 = 0\n",
    "sum_r1 = 0\n",
    "sum_r2 = 0\n",
    "sum_r3 = 0\n",
    "sum_r4 = 0\n",
    "\n",
    "#finding the elements for matrix Y\n",
    "for i in range(len(t)):\n",
    "    sum_hr0 = sum_hr0 + p[i]*t[i]**0\n",
    "for i in range(len(t)):\n",
    "    sum_hr1 = sum_hr1 + p[i]*t[i]**1\n",
    "for i in range(len(t)):\n",
    "    sum_hr2 = sum_hr2 + p[i]*t[i]**2\n",
    "Y = [[sum_hr0], [sum_hr1], [sum_hr2]]\n",
    "\n",
    "#finding the elements for matrix X\n",
    "for i in range(len(t)):\n",
    "    sum_r0 = sum_r0 + t[i]**0\n",
    "for i in range(len(t)):\n",
    "    sum_r1 = sum_r1 + t[i]**1\n",
    "for i in range(len(t)):\n",
    "    sum_r2 = sum_r2 + t[i]**2\n",
    "for i in range(len(t)):\n",
    "    sum_r3 = sum_r3 + t[i]**3\n",
    "for i in range(len(t)):\n",
    "    sum_r4 = sum_r4 + t[i]**4\n",
    "X = [[sum_r0, sum_r1, sum_r2], [sum_r1, sum_r2, sum_r3], [sum_r2, sum_r3, sum_r4]]\n",
    "\n",
    "print(\"The matrix for fitting (X) is given as,\")\n",
    "mylibrary.displayMatrix(X)\n",
    "\n",
    "#proceeding with finding the constants for polynomial fit\n",
    "X_inv = mylibrary.polyfit_inv(X)\n",
    "print(\"Hence, the inverse matrix for fitting exists and is given as,\")\n",
    "mylibrary.displayMatrix(X_inv)\n",
    "\n",
    "P = mylibrary.productMatrix(X_inv, Y)\n",
    "print(\"The coefficient matrx for fitting is hence obtained by X^(-1)*Y as,\")\n",
    "mylibrary.displayMatrix(P)"
   ]
  },
  {
   "cell_type": "code",
   "execution_count": 18,
   "id": "601558cb",
   "metadata": {},
   "outputs": [
    {
     "name": "stdout",
     "output_type": "stream",
     "text": [
      "Constants for our best fit curve are: \n",
      "a0 = 732.0599999999977\n",
      "a1 = 74.40000000000146\n",
      "a2 = 10.440000000000282\n",
      "Population in mid-June (t=6.5) is = 1656.750000000019\n"
     ]
    }
   ],
   "source": [
    "a0 = P[0][0]\n",
    "a1 = P[1][0]\n",
    "a2 = P[2][0]\n",
    "\n",
    "midjune = 6.5 #months have been given integral values\n",
    "p_midjune = a0 + a1*midjune + a2*(midjune)**2\n",
    "\n",
    "print(\"Constants for our best fit curve are: \")\n",
    "print(\"a0 =\", a0)\n",
    "print(\"a1 =\", a1)\n",
    "print(\"a2 =\", a2)\n",
    "print(\"Population in mid-June (t=6.5) is =\", p_midjune)"
   ]
  },
  {
   "cell_type": "code",
   "execution_count": 14,
   "id": "15df5545",
   "metadata": {},
   "outputs": [
    {
     "data": {
      "image/png": "[encoded data removed]",
      "text/plain": [
       "<Figure size 432x288 with 1 Axes>"
      ]
     },
     "metadata": {
      "needs_background": "light"
     },
     "output_type": "display_data"
    }
   ],
   "source": [
    "t_fit = []\n",
    "output = []\n",
    "for i in range(1100):\n",
    "    t_ = i*0.01\n",
    "    out = a0 + a1*t_ + a2*t_**2\n",
    "    t_fit.append(t_)\n",
    "    output.append(out)\n",
    "\n",
    "plt.plot(t, p,'o-g', label='Data points') #plot for data points\n",
    "plt.plot(t_fit, output,'--b', label='Best fit line') #best fit\n",
    "plt.xlabel(\"$Time, x$ (in monts)\")\n",
    "plt.ylabel(\"$Populations, p$\")\n",
    "plt.grid() \n",
    "plt.title(\"Population vs time plot\")\n",
    "plt.legend(loc='upper left')\n",
    "plt.show()"
   ]
  },
  {
   "cell_type": "markdown",
   "id": "1b6565d5",
   "metadata": {},
   "source": [
    "Question 5"
   ]
  },
  {
   "cell_type": "code",
   "execution_count": 10,
   "id": "5d858690",
   "metadata": {},
   "outputs": [
    {
     "name": "stdout",
     "output_type": "stream",
     "text": [
      "In (i), the values of \\omega_0 and \\omega_c are: 2.029102564102564 and -0.47470862470862474 respectively\n",
      "The Pearson r value for the linear fit is: -0.9851557666128374\n"
     ]
    }
   ],
   "source": [
    "matrix = open(\"esem_lfit.dat\", \"r+\")\n",
    "t = []\n",
    "w = []\n",
    "\n",
    "for row in matrix:\n",
    "    elem = row.split()\n",
    "    t.append(float(elem[0]))\n",
    "    w.append(float(elem[1]))\n",
    "\n",
    "#(i)\n",
    "wc, w0, r1 = mylibrary.linear_fit(t, w)\n",
    "\n",
    "t1 = [min(t), max(t)]\n",
    "w1 = [w0 + wc*t1[0], w0 + wc*t1[1]]\n",
    "\n",
    "print(\"In (i), the values of \\omega_0 and \\omega_c are: \" + str(w0) + ' and ' + str(wc) + ' respectively')\n",
    "print('The Pearson r value for the linear fit is: ' + str(r1))"
   ]
  },
  {
   "cell_type": "code",
   "execution_count": 11,
   "id": "f6df722a",
   "metadata": {},
   "outputs": [
    {
     "data": {
      "image/png": "[encoded data removed]",
      "text/plain": [
       "<Figure size 432x288 with 1 Axes>"
      ]
     },
     "metadata": {
      "needs_background": "light"
     },
     "output_type": "display_data"
    }
   ],
   "source": [
    "plt.plot(t, w, '.r', label='Data points')  #plotting omega vs t data\n",
    "plt.plot(t1, w1, '--b', label='Fit (i)')   #plotting the best fit line\n",
    "\n",
    "'''plt.plot(t, we, '+g', label='Data points')\n",
    "plt.plot(t, w2, '.g', label='Fit (ii)')'''\n",
    "\n",
    "#plot for (i) \n",
    "plt.xlabel(\"$time, t$\")\n",
    "plt.ylabel(\"$\\omega(t)$\")\n",
    "plt.grid() \n",
    "plt.title(\"$\\omega$ vs $t$ plot for (i)\")\n",
    "plt.legend(loc='upper right')\n",
    "plt.show()"
   ]
  },
  {
   "cell_type": "code",
   "execution_count": 12,
   "id": "66c301df",
   "metadata": {},
   "outputs": [
    {
     "name": "stdout",
     "output_type": "stream",
     "text": [
      "In (ii), the values of \\omega_0 and \\omega_c are: 2.2040080182882553 and -0.39559617454855667\n",
      "The Pearson r value for the exponential fit is: -0.9991179387307726\n"
     ]
    }
   ],
   "source": [
    "#(ii)\n",
    "we = []\n",
    "\n",
    "for i in range(len(w)):\n",
    "    we.append(math.log(w[i]))\n",
    "    \n",
    "wcn, lnw0, r2 = mylibrary.linear_fit(t,we)\n",
    "w0 = math.exp(lnw0)\n",
    "\n",
    "t2 = [min(t), max(t)]\n",
    "w2 = [lnw0+wcn*t2[0], lnw0+wcn*t2[1]]\n",
    "\n",
    "print(\"In (ii), the values of \\omega_0 and \\omega_c are: \" + str(w0) + ' and ' + str(wcn))\n",
    "print('The Pearson r value for the exponential fit is: ' + str(r2))"
   ]
  },
  {
   "cell_type": "code",
   "execution_count": 13,
   "id": "d1340f10",
   "metadata": {},
   "outputs": [
    {
     "data": {
      "image/png": "[encoded data removed]",
      "text/plain": [
       "<Figure size 432x288 with 1 Axes>"
      ]
     },
     "metadata": {
      "needs_background": "light"
     },
     "output_type": "display_data"
    }
   ],
   "source": [
    "plt.plot(t, we, '.r', label='Data points')  #plotting log(omega) vs t data\n",
    "plt.plot(t2, w2, '--b', label='Fit (ii)')   #plotting the best fit line\n",
    "\n",
    "#plot for (ii) \n",
    "plt.xlabel(\"$time, t$\")\n",
    "plt.ylabel(\"$log(\\omega(t))$\")\n",
    "plt.grid() \n",
    "plt.title(\"log($\\omega$) vs $t$ plot for (ii)\")\n",
    "plt.legend(loc='upper right')\n",
    "plt.show()"
   ]
  }
 ],
 "metadata": {
  "kernelspec": {
   "display_name": "Python 3",
   "language": "python",
   "name": "python3"
  },
  "language_info": {
   "codemirror_mode": {
    "name": "ipython",
    "version": 3
   },
   "file_extension": ".py",
   "mimetype": "text/x-python",
   "name": "python",
   "nbconvert_exporter": "python",
   "pygments_lexer": "ipython3",
   "version": "3.7.10"
  }
 },
 "nbformat": 4,
 "nbformat_minor": 5
}
