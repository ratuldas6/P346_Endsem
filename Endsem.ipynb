{
 "cells": [
  {
   "cell_type": "code",
   "execution_count": 1,
   "id": "3736646e",
   "metadata": {},
   "outputs": [],
   "source": [
    "import mylibrary\n",
    "import math\n",
    "from matplotlib import pyplot as plt"
   ]
  },
  {
   "cell_type": "markdown",
   "id": "743318d4",
   "metadata": {},
   "source": [
    "Question 1"
   ]
  },
  {
   "cell_type": "code",
   "execution_count": 3,
   "id": "c1dc2565",
   "metadata": {},
   "outputs": [
    {
     "name": "stdout",
     "output_type": "stream",
     "text": [
      "Bracket containing the root of the function is:(2, 5)\n"
     ]
    }
   ],
   "source": [
    "#function given: (x-5)e^x + 5\n",
    "f1 = lambda x: (x-5)*math.exp(x) + 5\n",
    "\n",
    "#setting constants\n",
    "h = 6.626*10**(-34)\n",
    "k = 1.381*10**(-23)\n",
    "c = 3*10**(8) \n",
    "\n",
    "prec = 10*(-4) #choosing a precision value\n",
    "\n",
    "#picking a guess for the root\n",
    "lower_lim = 2\n",
    "upper_lim = 5\n",
    "\n",
    "#checking bracket for root\n",
    "brac = mylibrary.bracket(f1,lower_lim,upper_lim)\n",
    "print(\"Bracket containing the root of the function is:\" + str(brac))"
   ]
  },
  {
   "cell_type": "code",
   "execution_count": 4,
   "id": "a579b8da",
   "metadata": {},
   "outputs": [
    {
     "name": "stdout",
     "output_type": "stream",
     "text": [
      "The root for the function within the specified interval is = 4.965113134432163\n"
     ]
    }
   ],
   "source": [
    "#calling Newton-Raphson function to find root\n",
    "r1, i1, err1 = mylibrary.newtonraphson(f1,5,prec) #putting the upper bound guess as 5\n",
    "print(\"The root for the function within the specified interval is = \" + str(r1))"
   ]
  },
  {
   "cell_type": "code",
   "execution_count": 7,
   "id": "652cc814",
   "metadata": {},
   "outputs": [
    {
     "name": "stdout",
     "output_type": "stream",
     "text": [
      "From the given expression in the question, we see b = (h*c)/(x*k)\n",
      "where x is the value of the root found\n",
      "\n",
      "Therefore, Wein's constant, b = 0.0028990109714324853\n"
     ]
    }
   ],
   "source": [
    "print(\"From the given expression in the question, we see b = (h*c)/(x*k)\")\n",
    "print(\"where x is the value of the root found\")\n",
    "print()\n",
    "print(\"Therefore, Wein's constant, b = \" + str((h*c)/(r1*k)))"
   ]
  },
  {
   "cell_type": "markdown",
   "id": "56b533c9",
   "metadata": {},
   "source": [
    "Question 2"
   ]
  },
  {
   "cell_type": "code",
   "execution_count": 14,
   "id": "97166206",
   "metadata": {},
   "outputs": [],
   "source": [
    "#defining constants for the question\n",
    "L = 1\n",
    "g = 9.8\n",
    "k = 4*(L/g)**0.5\n",
    "a = math.sin(math.pi/8)\n",
    "\n",
    "#defining the integrand\n",
    "def integrand(phi):\n",
    "    f = 1/(1-(a*math.sin(phi)))**0.5\n",
    "    return f"
   ]
  },
  {
   "cell_type": "code",
   "execution_count": 18,
   "id": "e9ab6804",
   "metadata": {},
   "outputs": [
    {
     "name": "stdout",
     "output_type": "stream",
     "text": [
      "The value of T for N = 10, using Simpson method is 2.007089923154493\n"
     ]
    }
   ],
   "source": [
    "a = 0         #lower bound\n",
    "b = math.pi/2 #upper bound\n",
    "N = 10        #as specified in the question\n",
    "integral = k*mylibrary.Simpson(a,b,integrand,N)\n",
    "print(\"The value of T for N = 10, using Simpson method is\", integral)"
   ]
  },
  {
   "cell_type": "markdown",
   "id": "517e23de",
   "metadata": {},
   "source": [
    "Question 3"
   ]
  },
  {
   "cell_type": "code",
   "execution_count": 2,
   "id": "59dc088f",
   "metadata": {},
   "outputs": [],
   "source": [
    "#setting up the constants for the problem\n",
    "y0 = 2\n",
    "y5 = 45\n",
    "\n",
    "def y2dot(t, y, u):\n",
    "    return -9.8\n",
    "\n",
    "def ydot(t, y, u):\n",
    "    return u"
   ]
  },
  {
   "cell_type": "code",
   "execution_count": 8,
   "id": "0e4cf286",
   "metadata": {},
   "outputs": [
    {
     "name": "stdout",
     "output_type": "stream",
     "text": [
      "At t=0, the velocity of the rocket was 33.09999999999992\n"
     ]
    },
    {
     "data": {
      "image/png": "[encoded data removed]",
      "text/plain": [
       "<Figure size 432x288 with 1 Axes>"
      ]
     },
     "metadata": {
      "needs_background": "light"
     },
     "output_type": "display_data"
    }
   ],
   "source": [
    "stepsize = 0.01\n",
    "t_initial = 0\n",
    "t_final = 5\n",
    "tol = 0.000001\n",
    "\n",
    "T, Y, Z = mylibrary.Shooting(y2dot, ydot, t_initial, y0, t_final, y5, 10, 100, stepsize, tol)\n",
    "print(\"At t=0, the velocity of the rocket was\", Z[0])\n",
    "\n",
    "plt.plot(T,Y)\n",
    "plt.xlabel(\" $v$\")\n",
    "plt.ylabel(\"Height $(h)$\")\n",
    "plt.title(\"Height vs time plot for the rocket\")\n",
    "plt.show()"
   ]
  },
  {
   "cell_type": "markdown",
   "id": "c2ac81ab",
   "metadata": {},
   "source": [
    "Question 4"
   ]
  },
  {
   "cell_type": "code",
   "execution_count": null,
   "id": "ad9b006b",
   "metadata": {},
   "outputs": [],
   "source": [
    "matrix = open(\"esem_fit2.dat\", \"r+\")\n",
    "\n",
    "\n",
    "x = []\n",
    "y = []\n",
    "\n",
    "for row in matrix:\n",
    "    e1 = row.split()\n",
    "    x.append(float(e1[0]))\n",
    "    y.append(float(e1[1]))\n",
    "\n",
    "#defining the sums in Y\n",
    "sum_hr0 = 0\n",
    "sum_hr1 = 0\n",
    "sum_hr2 = 0\n",
    "for i in range(len(x)):\n",
    "    sum_hr0 = sum_hr0 + y[i]*x[i]**0\n",
    "for i in range(len(x)):\n",
    "    sum_hr1 = sum_hr1 + y[i]*x[i]**1\n",
    "for i in range(len(x)):\n",
    "    sum_hr2 = sum_hr2 + y[i]*x[i]**2\n",
    "\n",
    "Y = [[sum_hr0], [sum_hr1], [sum_hr2]]\n",
    "\n",
    "\n",
    "#defining the suns in X\n",
    "sum_r0 = 0\n",
    "sum_r1 = 0\n",
    "sum_r2 = 0\n",
    "sum_r3 = 0\n",
    "sum_r4 = 0\n",
    "for i in range(len(x)):\n",
    "    sum_r0 = sum_r0 + x[i]**0\n",
    "for i in range(len(x)):\n",
    "    sum_r1 = sum_r1 + x[i]**1\n",
    "for i in range(len(x)):\n",
    "    sum_r2 = sum_r2 + x[i]**2\n",
    "for i in range(len(x)):\n",
    "    sum_r3 = sum_r3 + x[i]**3\n",
    "for i in range(len(x)):\n",
    "    sum_r4 = sum_r4 + x[i]**4\n",
    "\n",
    "X = [[sum_r0, sum_r1, sum_r2], [sum_r1, sum_r2, sum_r3], [sum_r2, sum_r3, sum_r4]]\n",
    "\n",
    "X_inv = mylibrary.polyfit_inverse(X)\n",
    "\n",
    "P = mylibrary.productMatrix(X_inv, Y)\n",
    "\n",
    "r_max = -(P[1][0])/(2*P[2][0])\n",
    "\n",
    "h_max = P[0][0] + P[1][0]*r_max + P[2][0]*(r_max)**2\n",
    "\n",
    "print(\"The maximum height is attained at r =\", r_max)\n",
    "print(\"The maximum height attained is h =\", h_max, \"m\")"
   ]
  },
  {
   "cell_type": "markdown",
   "id": "1b6565d5",
   "metadata": {},
   "source": [
    "Question 5"
   ]
  },
  {
   "cell_type": "code",
   "execution_count": null,
   "id": "5d858690",
   "metadata": {},
   "outputs": [],
   "source": [
    "matrix = open(\"esem_fit1.dat\", \"r+\")\n",
    "x = []\n",
    "y = []\n",
    "\n",
    "for row in matrix:\n",
    "    e1 = row.split()\n",
    "    x.append(float(e1[0]))\n",
    "    y.append(float(e1[1]))\n",
    "\n",
    "\n",
    "#part(i)\n",
    "y1 = []\n",
    "for i in range(len(y)):\n",
    "    y1.append(math.log(y[i]))\n",
    "m, c, r = linear_fitting(x, y1)\n",
    "alpha = m\n",
    "sigma0 = math.exp(c)\n",
    "print(\"In part-i, the values of alpha and sigma_0 are: \" + str(alpha) + ' and ' + str(sigma0))\n",
    "print('The r value is: ' + str(r))\n",
    "#part(ii)\n",
    "x2 = []\n",
    "y2 = []\n",
    "for i in range(len(x)):\n",
    "    x2.append(math.log(x[i]))\n",
    "    y2.append(math.log(y[i]))\n",
    "m,c,r = linear_fitting(x2,y2)\n",
    "alpha = m \n",
    "sigma0 = math.exp(c)\n",
    "print(\"In part-ii, the values of alpha and sigma_0 are: \" + str(alpha) + ' and ' + str(sigma0))\n",
    "print('The r value is: ' + str(r))"
   ]
  }
 ],
 "metadata": {
  "kernelspec": {
   "display_name": "Python 3",
   "language": "python",
   "name": "python3"
  },
  "language_info": {
   "codemirror_mode": {
    "name": "ipython",
    "version": 3
   },
   "file_extension": ".py",
   "mimetype": "text/x-python",
   "name": "python",
   "nbconvert_exporter": "python",
   "pygments_lexer": "ipython3",
   "version": "3.7.10"
  }
 },
 "nbformat": 4,
 "nbformat_minor": 5
}
